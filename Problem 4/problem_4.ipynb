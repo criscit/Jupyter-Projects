{
 "cells": [
  {
   "cell_type": "markdown",
   "id": "205bbd71",
   "metadata": {},
   "source": [
    "## Задание №1\n",
    "Взять датасет marketing_campaign.csv. Проверить гипотезу о том, в каком варианте теста (control/personalization) больше конверсия (converted) и значимо ли это отличие статистически."
   ]
  },
  {
   "cell_type": "code",
   "execution_count": 1,
   "id": "72139243",
   "metadata": {},
   "outputs": [
    {
     "data": {
      "text/html": [
       "<div>\n",
       "<style scoped>\n",
       "    .dataframe tbody tr th:only-of-type {\n",
       "        vertical-align: middle;\n",
       "    }\n",
       "\n",
       "    .dataframe tbody tr th {\n",
       "        vertical-align: top;\n",
       "    }\n",
       "\n",
       "    .dataframe thead th {\n",
       "        text-align: right;\n",
       "    }\n",
       "</style>\n",
       "<table border=\"1\" class=\"dataframe\">\n",
       "  <thead>\n",
       "    <tr style=\"text-align: right;\">\n",
       "      <th></th>\n",
       "      <th>user_id</th>\n",
       "      <th>date_served</th>\n",
       "      <th>marketing_channel</th>\n",
       "      <th>variant</th>\n",
       "      <th>language_displayed</th>\n",
       "      <th>converted</th>\n",
       "    </tr>\n",
       "  </thead>\n",
       "  <tbody>\n",
       "    <tr>\n",
       "      <th>0</th>\n",
       "      <td>a1000</td>\n",
       "      <td>1/1/18</td>\n",
       "      <td>House Ads</td>\n",
       "      <td>personalization</td>\n",
       "      <td>English</td>\n",
       "      <td>True</td>\n",
       "    </tr>\n",
       "    <tr>\n",
       "      <th>1</th>\n",
       "      <td>a1001</td>\n",
       "      <td>1/1/18</td>\n",
       "      <td>House Ads</td>\n",
       "      <td>personalization</td>\n",
       "      <td>English</td>\n",
       "      <td>True</td>\n",
       "    </tr>\n",
       "    <tr>\n",
       "      <th>2</th>\n",
       "      <td>a1002</td>\n",
       "      <td>1/1/18</td>\n",
       "      <td>House Ads</td>\n",
       "      <td>personalization</td>\n",
       "      <td>English</td>\n",
       "      <td>True</td>\n",
       "    </tr>\n",
       "    <tr>\n",
       "      <th>3</th>\n",
       "      <td>a1003</td>\n",
       "      <td>1/1/18</td>\n",
       "      <td>House Ads</td>\n",
       "      <td>personalization</td>\n",
       "      <td>English</td>\n",
       "      <td>True</td>\n",
       "    </tr>\n",
       "    <tr>\n",
       "      <th>4</th>\n",
       "      <td>a1004</td>\n",
       "      <td>1/1/18</td>\n",
       "      <td>House Ads</td>\n",
       "      <td>personalization</td>\n",
       "      <td>English</td>\n",
       "      <td>True</td>\n",
       "    </tr>\n",
       "  </tbody>\n",
       "</table>\n",
       "</div>"
      ],
      "text/plain": [
       "  user_id date_served marketing_channel          variant language_displayed  \\\n",
       "0   a1000      1/1/18         House Ads  personalization            English   \n",
       "1   a1001      1/1/18         House Ads  personalization            English   \n",
       "2   a1002      1/1/18         House Ads  personalization            English   \n",
       "3   a1003      1/1/18         House Ads  personalization            English   \n",
       "4   a1004      1/1/18         House Ads  personalization            English   \n",
       "\n",
       "  converted  \n",
       "0      True  \n",
       "1      True  \n",
       "2      True  \n",
       "3      True  \n",
       "4      True  "
      ]
     },
     "execution_count": 1,
     "metadata": {},
     "output_type": "execute_result"
    }
   ],
   "source": [
    "import pandas as pd\n",
    "marketing_campaign = pd.read_csv(\"marketing_campaign.csv\")\n",
    "marketing_campaign.head()"
   ]
  },
  {
   "cell_type": "code",
   "execution_count": 10,
   "id": "bac94027",
   "metadata": {},
   "outputs": [
    {
     "data": {
      "text/html": [
       "<div>\n",
       "<style scoped>\n",
       "    .dataframe tbody tr th:only-of-type {\n",
       "        vertical-align: middle;\n",
       "    }\n",
       "\n",
       "    .dataframe tbody tr th {\n",
       "        vertical-align: top;\n",
       "    }\n",
       "\n",
       "    .dataframe thead th {\n",
       "        text-align: right;\n",
       "    }\n",
       "</style>\n",
       "<table border=\"1\" class=\"dataframe\">\n",
       "  <thead>\n",
       "    <tr style=\"text-align: right;\">\n",
       "      <th></th>\n",
       "      <th>converted</th>\n",
       "      <th>not converted</th>\n",
       "    </tr>\n",
       "  </thead>\n",
       "  <tbody>\n",
       "    <tr>\n",
       "      <th>control</th>\n",
       "      <td>371</td>\n",
       "      <td>4705</td>\n",
       "    </tr>\n",
       "    <tr>\n",
       "      <th>personalization</th>\n",
       "      <td>705</td>\n",
       "      <td>4241</td>\n",
       "    </tr>\n",
       "  </tbody>\n",
       "</table>\n",
       "</div>"
      ],
      "text/plain": [
       "                 converted  not converted\n",
       "control                371           4705\n",
       "personalization        705           4241"
      ]
     },
     "execution_count": 10,
     "metadata": {},
     "output_type": "execute_result"
    }
   ],
   "source": [
    "df_conv = marketing_campaign.loc[marketing_campaign['converted'] == True, ['variant', 'converted']].groupby('variant')['converted'].count()\n",
    "df_notconv = marketing_campaign.loc[marketing_campaign['converted'] == False, ['variant', 'converted']].groupby('variant')['converted'].count()\n",
    "df_var = pd.merge(df_conv, df_notconv, on='variant')\n",
    "df_var.columns = ['converted', 'not converted']\n",
    "df_var.index.name = None\n",
    "df_var"
   ]
  },
  {
   "cell_type": "code",
   "execution_count": 11,
   "id": "66e2495c",
   "metadata": {},
   "outputs": [
    {
     "name": "stdout",
     "output_type": "stream",
     "text": [
      "chisq = 126.07767827548582, pvalue = 2.9568009705199523e-29\n"
     ]
    }
   ],
   "source": [
    "import scipy.stats as stats\n",
    "result = stats.chi2_contingency(df_var, correction=False)\n",
    "chisq, pvalue = result[:2]\n",
    "print('chisq = {}, pvalue = {}'.format(chisq, pvalue))"
   ]
  },
  {
   "cell_type": "markdown",
   "id": "b5160099",
   "metadata": {},
   "source": [
    "Вывод: поскольку значимость А/В теста (2.96e-29) меньше допустимого уровня значимости (0,05), то нулевую гипотезу о равенстве конверсий в группах отклоняется. Группа 'personalization' действительно генерирует статистически больше конверсий, чем группа 'control'."
   ]
  },
  {
   "cell_type": "markdown",
   "id": "e211e6a9",
   "metadata": {},
   "source": [
    "## Задание №2\n",
    "Цех может производить стулья и столы. На производство стула идет 5 единиц материала, на производство стола - 20 единиц (футов красного дерева). Стул требует 10 человеко-часов, стол - 15. Имеется 400 единиц материала и 450 человеко-часов. Прибыль при производстве стула - 45 долларов США, при производстве стола - 80 долларов США. Сколько надо сделать стульев и столов, чтобы получить максимальную прибыль?"
   ]
  },
  {
   "cell_type": "code",
   "execution_count": 17,
   "id": "f68a4798",
   "metadata": {},
   "outputs": [
    {
     "name": "stdout",
     "output_type": "stream",
     "text": [
      "Максимальную прибыль в 2200 долларов цех получит при производстве 24 стульев и 14 столов\n"
     ]
    }
   ],
   "source": [
    "import numpy as np\n",
    "from math import ceil\n",
    "def value(x):\n",
    "    \"\"\"x[0] - количество стульев, x[1] - количество столов\"\"\"\n",
    "    return -45*x[0] - 80*x[1]\n",
    "neq_cons = {'type': 'ineq',\n",
    "             'fun': lambda x: np.array ([400 - 5 * x [0] - 20 * x [1],\n",
    "                                         450 - 10 * x [0] - 15 * x [1]])}\n",
    "from scipy.optimize import Bounds\n",
    "bnds = Bounds([0, 0], [np.inf, np.inf])\n",
    "from scipy.optimize import minimize\n",
    "x0 = np.array([10, 10])\n",
    "res = minimize(value, x0, method='SLSQP', constraints=neq_cons, bounds=bnds)\n",
    "print(f'Максимальную прибыль в {math.ceil(-value(res.x))} долларов цех получит при производстве {math.ceil(res.x[0])} стульев и {math.ceil(res.x[1])} столов')"
   ]
  },
  {
   "cell_type": "markdown",
   "id": "e912d7a6",
   "metadata": {},
   "source": [
    "## Задание №3\n",
    "Средний накопленный доход на пользователя с сайта (cumulative ARPU) составил: day1 0.4$, day3 0.6$, day7 0.8$, day14 1.10$ , day21 1.30$, day30 1.40$. Подберите аппроксимирующую кривую и сделайте прогноз, сколько в среднем принесет денег \n",
    "пользователь на 90й день."
   ]
  },
  {
   "cell_type": "code",
   "execution_count": 25,
   "id": "608d9c7f",
   "metadata": {},
   "outputs": [],
   "source": [
    "import pandas as pd\n",
    "import numpy as np\n",
    "import matplotlib.pyplot as plt\n",
    "df = pd.DataFrame({\n",
    "    'day': [1, 3, 7, 14, 21, 30],\n",
    "    'income': [0.4, 0.6, 0.8, 1.1, 1.3, 1.4]\n",
    "})"
   ]
  },
  {
   "cell_type": "code",
   "execution_count": 26,
   "id": "f54dc28d",
   "metadata": {},
   "outputs": [
    {
     "data": {
      "image/png": "[encoded data removed]",
      "text/plain": [
       "<Figure size 640x480 with 1 Axes>"
      ]
     },
     "metadata": {},
     "output_type": "display_data"
    }
   ],
   "source": [
    "from scipy.optimize import curve_fit\n",
    "import matplotlib.pyplot as plt\n",
    "def exp_func(x, a, b, c):\n",
    "    return a * np.exp( -b * x ) + c\n",
    "def log_func(x, a, b, c):\n",
    "    return -a * np.log2( b + x ) + c\n",
    "log_popt, log_pcov = curve_fit(log_func, df['day'], df['income'])\n",
    "exp_popt, exp_pcov = curve_fit(exp_func, df['day'], df['income'])\n",
    "projection_endpoint = 90\n",
    "log_y_projected = log_func(np.arange(projection_endpoint), *log_popt)\n",
    "exp_y_projected = exp_func(np.arange(projection_endpoint), *exp_popt)\n",
    "plt.figure(figsize=(8, 6), dpi=80, facecolor='w')\n",
    "plt.scatter(df['day'], df['income'], label=\"Original Data\" )\n",
    "plt.plot( log_y_projected, label=\"Log Function Projections\" )\n",
    "plt.plot( exp_y_projected, label=\"Exp Function Projections\" )\n",
    "plt.legend()\n",
    "plt.show()"
   ]
  },
  {
   "cell_type": "code",
   "execution_count": 27,
   "id": "865c7d6e",
   "metadata": {},
   "outputs": [
    {
     "name": "stdout",
     "output_type": "stream",
     "text": [
      "0.022656201072335794 0.017796313903006056\n"
     ]
    }
   ],
   "source": [
    "y_known = [i for i in df['income']]\n",
    "y_log_pred = [log_y_projected[i] for i in df['day']]\n",
    "y_exp_pred = [exp_y_projected[i] for i in df['day']]\n",
    "y_log_deviation = [y_log_pred[i] - y_known[i] for i in range(len(y_log_pred))]\n",
    "y_exp_deviation = [y_exp_pred[i] - y_known[i] for i in range(len(y_exp_pred))]\n",
    "print(np.std(y_log_deviation), np.std(y_exp_deviation))"
   ]
  },
  {
   "cell_type": "markdown",
   "id": "82c00c0b",
   "metadata": {},
   "source": [
    "Вывод: экспоненциальная функция аппроксимирует исследуемую зависимость с меньшей среднеквадратической ошибкой, поэтому целесообразнее использовать для прогноза только данную функцию."
   ]
  }
 ],
 "metadata": {
  "kernelspec": {
   "display_name": "Python 3 (ipykernel)",
   "language": "python",
   "name": "python3"
  },
  "language_info": {
   "codemirror_mode": {
    "name": "ipython",
    "version": 3
   },
   "file_extension": ".py",
   "mimetype": "text/x-python",
   "name": "python",
   "nbconvert_exporter": "python",
   "pygments_lexer": "ipython3",
   "version": "3.9.12"
  }
 },
 "nbformat": 4,
 "nbformat_minor": 5
}
